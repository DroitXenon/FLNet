{
  "cells": [
    {
      "cell_type": "code",
      "execution_count": 1,
      "metadata": {
        "id": "fL5r3ODOx9_a"
      },
      "outputs": [],
      "source": [
        "import torch\n",
        "import torch.nn as nn\n",
        "import torch.optim as optim\n",
        "import torchvision\n",
        "import torchvision.transforms as transforms"
      ]
    },
    {
      "cell_type": "code",
      "execution_count": 2,
      "metadata": {
        "colab": {
          "base_uri": "https://localhost:8080/"
        },
        "id": "WOXQOVU5yCO_",
        "outputId": "1ed6144d-a33e-41d8-e8a2-ddd6de25c1c9"
      },
      "outputs": [
        {
          "name": "stdout",
          "output_type": "stream",
          "text": [
            "Downloading https://www.cs.toronto.edu/~kriz/cifar-10-python.tar.gz to ./data/cifar-10-python.tar.gz\n"
          ]
        },
        {
          "name": "stderr",
          "output_type": "stream",
          "text": [
            "100%|██████████| 170M/170M [00:10<00:00, 15.8MB/s]\n"
          ]
        },
        {
          "name": "stdout",
          "output_type": "stream",
          "text": [
            "Extracting ./data/cifar-10-python.tar.gz to ./data\n",
            "Files already downloaded and verified\n",
            "Epoch 1, Loss: 2.2156\n",
            "Epoch 2, Loss: 1.9005\n",
            "Epoch 3, Loss: 1.6987\n",
            "Epoch 4, Loss: 1.5654\n",
            "Epoch 5, Loss: 1.4803\n",
            "Epoch 6, Loss: 1.4248\n",
            "Epoch 7, Loss: 1.3746\n",
            "Epoch 8, Loss: 1.3338\n",
            "Epoch 9, Loss: 1.2960\n",
            "Epoch 10, Loss: 1.2590\n",
            "Epoch 11, Loss: 1.2251\n",
            "Epoch 12, Loss: 1.1934\n",
            "Epoch 13, Loss: 1.1635\n",
            "Epoch 14, Loss: 1.1317\n",
            "Epoch 15, Loss: 1.1035\n",
            "Epoch 16, Loss: 1.0738\n",
            "Epoch 17, Loss: 1.0473\n",
            "Epoch 18, Loss: 1.0196\n",
            "Epoch 19, Loss: 0.9946\n",
            "Epoch 20, Loss: 0.9708\n",
            "Test Accuracy: 54.51%\n"
          ]
        }
      ],
      "source": [
        "batch_size = 64\n",
        "\n",
        "transform = transforms.Compose([\n",
        "    transforms.ToTensor(),\n",
        "    transforms.Normalize((0.5, 0.5, 0.5), (0.5, 0.5, 0.5))\n",
        "])\n",
        "\n",
        "trainset = torchvision.datasets.CIFAR10(root='./data', train=True, download=True, transform=transform)\n",
        "trainloader = torch.utils.data.DataLoader(trainset, batch_size=batch_size, shuffle=True, num_workers=2)\n",
        "\n",
        "testset = torchvision.datasets.CIFAR10(root='./data', train=False, download=True, transform=transform)\n",
        "testloader = torch.utils.data.DataLoader(testset, batch_size=batch_size, shuffle=False, num_workers=2)\n",
        "\n",
        "class SimpleCNN(nn.Module):\n",
        "    def __init__(self):\n",
        "        super(SimpleCNN, self).__init__()\n",
        "        self.conv1 = nn.Conv2d(3, 32, kernel_size=3, padding=1)\n",
        "        self.conv2 = nn.Conv2d(32, 64, kernel_size=3, padding=1)\n",
        "        self.fc1 = nn.Linear(64 * 8 * 8, 256)\n",
        "        self.fc2 = nn.Linear(256, 10)\n",
        "        self.pool = nn.MaxPool2d(2, 2)\n",
        "        self.relu = nn.ReLU()\n",
        "\n",
        "    def forward(self, x):\n",
        "        x = self.pool(self.relu(self.conv1(x)))\n",
        "        x = self.pool(self.relu(self.conv2(x)))\n",
        "        x = x.view(x.size(0), -1)\n",
        "        x = self.relu(self.fc1(x))\n",
        "        x = self.fc2(x)\n",
        "        return x\n",
        "\n",
        "class LU_SGD(optim.Optimizer):\n",
        "    def __init__(self, params, lr=0.01, momentum=0.9, weight_decay=5e-4, alpha=0.5, k=5):\n",
        "        defaults = dict(lr=lr, momentum=momentum, weight_decay=weight_decay, alpha=alpha, k=k)\n",
        "        super(LU_SGD, self).__init__(params, defaults)\n",
        "\n",
        "        for group in self.param_groups:\n",
        "            group['slow_params'] = [p.clone().detach() for p in group['params']]\n",
        "\n",
        "    @torch.no_grad()\n",
        "    def step(self, closure=None):\n",
        "        loss = None\n",
        "        if closure is not None:\n",
        "            loss = closure()\n",
        "\n",
        "        for group in self.param_groups:\n",
        "            alpha = group['alpha']\n",
        "            k = group['k']\n",
        "            slow_params = group['slow_params']\n",
        "\n",
        "            for p, slow in zip(group['params'], slow_params):\n",
        "                if p.grad is None:\n",
        "                    continue\n",
        "\n",
        "                d_p = p.grad\n",
        "                p.add_(d_p, alpha=-group['lr'])\n",
        "\n",
        "                if self.state.get(p, {}).get('step', 0) % k == 0:\n",
        "                    slow.add_(p - slow, alpha=alpha)\n",
        "                    p.copy_(slow)\n",
        "\n",
        "                if 'step' not in self.state[p]:\n",
        "                    self.state[p]['step'] = 0\n",
        "                self.state[p]['step'] += 1\n",
        "\n",
        "        return loss\n",
        "\n",
        "device = torch.device(\"cuda\" if torch.cuda.is_available() else \"cpu\")\n",
        "\n",
        "model = SimpleCNN().to(device)\n",
        "\n",
        "criterion = nn.CrossEntropyLoss()\n",
        "optimizer = LU_SGD(model.parameters(), lr=0.01, momentum=0.9, weight_decay=5e-4, alpha=0.5, k=5)\n",
        "\n",
        "def train(model, trainloader, optimizer, criterion, epochs=20):\n",
        "    model.train()\n",
        "    for epoch in range(epochs):\n",
        "        running_loss = 0.0\n",
        "        for inputs, labels in trainloader:\n",
        "            inputs, labels = inputs.to(device), labels.to(device)\n",
        "\n",
        "            optimizer.zero_grad()\n",
        "            outputs = model(inputs)\n",
        "            loss = criterion(outputs, labels)\n",
        "            loss.backward()\n",
        "            optimizer.step()\n",
        "\n",
        "            running_loss += loss.item()\n",
        "\n",
        "        print(f\"Epoch {epoch+1}, Loss: {running_loss / len(trainloader):.4f}\")\n",
        "\n",
        "def test(model, testloader):\n",
        "    model.eval()\n",
        "    correct = 0\n",
        "    total = 0\n",
        "    with torch.no_grad():\n",
        "        for inputs, labels in testloader:\n",
        "            inputs, labels = inputs.to(device), labels.to(device)\n",
        "            outputs = model(inputs)\n",
        "            _, predicted = torch.max(outputs, 1)\n",
        "            total += labels.size(0)\n",
        "            correct += (predicted == labels).sum().item()\n",
        "\n",
        "    print(f\"Test Accuracy: {100 * correct / total:.2f}%\")\n",
        "\n",
        "train(model, trainloader, optimizer, criterion, epochs=20)\n",
        "test(model, testloader)"
      ]
    }
  ],
  "metadata": {
    "colab": {
      "provenance": []
    },
    "kernelspec": {
      "display_name": "Python 3",
      "name": "python3"
    },
    "language_info": {
      "name": "python"
    }
  },
  "nbformat": 4,
  "nbformat_minor": 0
}
