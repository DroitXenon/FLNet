{
 "cells": [
  {
   "cell_type": "code",
   "execution_count": null,
   "id": "09506a94-076d-4b6c-9c9e-b4981c4d1e30",
   "metadata": {},
   "outputs": [],
   "source": [
    "import torch\n",
    "import torch.nn as nn\n",
    "import torch.optim as optim\n",
    "import torch.nn.functional as F\n",
    "import torchvision\n",
    "import torchvision.transforms as transforms"
   ]
  },
  {
   "cell_type": "code",
   "execution_count": 7,
   "id": "c8b1167b-4ccd-4a72-918b-c87353a6e387",
   "metadata": {},
   "outputs": [],
   "source": [
    "# 数据预处理\n",
    "transform = transforms.Compose([\n",
    "    transforms.ToTensor(),\n",
    "    transforms.Normalize((0.5, 0.5, 0.5), (0.5, 0.5, 0.5))  # 归一化到[-1, 1]\n",
    "])"
   ]
  },
  {
   "cell_type": "code",
   "execution_count": 9,
   "id": "9935a3fe-5d3a-4c58-b295-9de0c26d2754",
   "metadata": {},
   "outputs": [],
   "source": [
    "# 加载CIFAR-10数据集\n",
    "batch_size = 64\n",
    "trainset = torchvision.datasets.CIFAR10(root='./data', train=True, download=True, transform=transform)\n",
    "trainloader = torch.utils.data.DataLoader(trainset, batch_size=batch_size, shuffle=True, num_workers=2)\n",
    "\n",
    "testset = torchvision.datasets.CIFAR10(root='./data', train=False, download=True, transform=transform)\n",
    "testloader = torch.utils.data.DataLoader(testset, batch_size=batch_size, shuffle=False, num_workers=2)"
   ]
  },
  {
   "cell_type": "code",
   "execution_count": 11,
   "id": "1329626f-fc3f-4341-a3ee-24ec1b6542c5",
   "metadata": {},
   "outputs": [],
   "source": [
    "class SimpleCNN(nn.Module):\n",
    "    def __init__(self):\n",
    "        super(SimpleCNN, self).__init__()\n",
    "        # 卷积层\n",
    "        self.conv1 = nn.Conv2d(3, 32, kernel_size=3, padding=1)  # 输入通道3，输出通道32\n",
    "        self.conv2 = nn.Conv2d(32, 64, kernel_size=3, padding=1)  # 输入通道32，输出通道64\n",
    "        self.conv3 = nn.Conv2d(64, 128, kernel_size=3, padding=1)  # 输入通道64，输出通道128\n",
    "        \n",
    "        # 全连接层\n",
    "        self.fc1 = nn.Linear(128 * 4 * 4, 256)  # 输入大小128*4*4，输出大小256\n",
    "        self.fc2 = nn.Linear(256, 128)  # 输入大小256，输出大小128\n",
    "        self.fc3 = nn.Linear(128, 10)  # 输入大小128，输出大小10（10个类别）\n",
    "        \n",
    "        # 池化层和Dropout\n",
    "        self.pool = nn.MaxPool2d(2, 2)  # 2x2最大池化\n",
    "        self.dropout = nn.Dropout(0.25)  # Dropout概率0.25\n",
    "\n",
    "    def forward(self, x):\n",
    "        # 卷积层1 + ReLU + 池化\n",
    "        x = self.pool(F.relu(self.conv1(x)))\n",
    "        # 卷积层2 + ReLU + 池化\n",
    "        x = self.pool(F.relu(self.conv2(x)))\n",
    "        # 卷积层3 + ReLU + 池化\n",
    "        x = self.pool(F.relu(self.conv3(x)))\n",
    "        \n",
    "        # 展平\n",
    "        x = x.view(-1, 128 * 4 * 4)\n",
    "        \n",
    "        # 全连接层1 + ReLU + Dropout\n",
    "        x = F.relu(self.fc1(x))\n",
    "        x = self.dropout(x)\n",
    "        # 全连接层2 + ReLU + Dropout\n",
    "        x = F.relu(self.fc2(x))\n",
    "        x = self.dropout(x)\n",
    "        # 全连接层3（输出层）\n",
    "        x = self.fc3(x)\n",
    "        \n",
    "        return x"
   ]
  },
  {
   "cell_type": "code",
   "execution_count": 13,
   "id": "6ef82d18-1174-499f-b007-4b48548597d2",
   "metadata": {},
   "outputs": [],
   "source": [
    "\n",
    "# 实例化模型\n",
    "model = SimpleCNN()"
   ]
  },
  {
   "cell_type": "code",
   "execution_count": 15,
   "id": "19e69261-977b-4527-8e3f-1780a0bcb870",
   "metadata": {},
   "outputs": [],
   "source": [
    "# 定义损失函数和优化器\n",
    "criterion = nn.CrossEntropyLoss()  # 交叉熵损失\n",
    "optimizer = optim.Adam(model.parameters(), lr=0.001)  # Adam优化器"
   ]
  },
  {
   "cell_type": "code",
   "execution_count": 17,
   "id": "0040c897-8cd5-4a01-b0d6-9f62329da59b",
   "metadata": {},
   "outputs": [
    {
     "name": "stdout",
     "output_type": "stream",
     "text": [
      "Epoch [1/10], Batch [200/782], Loss: 1.868\n",
      "Epoch [1/10], Batch [400/782], Loss: 1.526\n",
      "Epoch [1/10], Batch [600/782], Loss: 1.368\n",
      "Epoch [2/10], Batch [200/782], Loss: 1.167\n",
      "Epoch [2/10], Batch [400/782], Loss: 1.113\n",
      "Epoch [2/10], Batch [600/782], Loss: 1.059\n",
      "Epoch [3/10], Batch [200/782], Loss: 0.927\n",
      "Epoch [3/10], Batch [400/782], Loss: 0.911\n",
      "Epoch [3/10], Batch [600/782], Loss: 0.905\n",
      "Epoch [4/10], Batch [200/782], Loss: 0.780\n",
      "Epoch [4/10], Batch [400/782], Loss: 0.785\n",
      "Epoch [4/10], Batch [600/782], Loss: 0.769\n",
      "Epoch [5/10], Batch [200/782], Loss: 0.673\n",
      "Epoch [5/10], Batch [400/782], Loss: 0.673\n",
      "Epoch [5/10], Batch [600/782], Loss: 0.689\n",
      "Epoch [6/10], Batch [200/782], Loss: 0.579\n",
      "Epoch [6/10], Batch [400/782], Loss: 0.594\n",
      "Epoch [6/10], Batch [600/782], Loss: 0.599\n",
      "Epoch [7/10], Batch [200/782], Loss: 0.522\n",
      "Epoch [7/10], Batch [400/782], Loss: 0.519\n",
      "Epoch [7/10], Batch [600/782], Loss: 0.542\n",
      "Epoch [8/10], Batch [200/782], Loss: 0.435\n",
      "Epoch [8/10], Batch [400/782], Loss: 0.457\n",
      "Epoch [8/10], Batch [600/782], Loss: 0.474\n",
      "Epoch [9/10], Batch [200/782], Loss: 0.388\n",
      "Epoch [9/10], Batch [400/782], Loss: 0.406\n",
      "Epoch [9/10], Batch [600/782], Loss: 0.430\n",
      "Epoch [10/10], Batch [200/782], Loss: 0.345\n",
      "Epoch [10/10], Batch [400/782], Loss: 0.361\n",
      "Epoch [10/10], Batch [600/782], Loss: 0.382\n",
      "Finished Training\n"
     ]
    }
   ],
   "source": [
    "# 训练模型\n",
    "num_epochs = 10  # 训练10个epoch\n",
    "for epoch in range(num_epochs):\n",
    "    running_loss = 0.0\n",
    "    for i, data in enumerate(trainloader, 0):\n",
    "        inputs, labels = data\n",
    "        \n",
    "        # 清零梯度\n",
    "        optimizer.zero_grad()\n",
    "        \n",
    "        # 前向传播\n",
    "        outputs = model(inputs)\n",
    "        loss = criterion(outputs, labels)\n",
    "        \n",
    "        # 反向传播和优化\n",
    "        loss.backward()\n",
    "        optimizer.step()\n",
    "        \n",
    "        # 打印统计信息\n",
    "        running_loss += loss.item()\n",
    "        if i % 200 == 199:  # 每200个batch打印一次\n",
    "            print(f'Epoch [{epoch + 1}/{num_epochs}], Batch [{i + 1}/{len(trainloader)}], Loss: {running_loss / 200:.3f}')\n",
    "            running_loss = 0.0\n",
    "\n",
    "print('Finished Training')"
   ]
  },
  {
   "cell_type": "code",
   "execution_count": 19,
   "id": "80631db3-0e44-4c93-9e18-73c23ea16a0a",
   "metadata": {},
   "outputs": [
    {
     "name": "stdout",
     "output_type": "stream",
     "text": [
      "Accuracy of the model on the test images: 74.28%\n"
     ]
    }
   ],
   "source": [
    "# 测试模型\n",
    "correct = 0\n",
    "total = 0\n",
    "with torch.no_grad():\n",
    "    for data in testloader:\n",
    "        images, labels = data\n",
    "        outputs = model(images)\n",
    "        _, predicted = torch.max(outputs.data, 1)\n",
    "        total += labels.size(0)\n",
    "        correct += (predicted == labels).sum().item()\n",
    "\n",
    "print(f'Accuracy of the model on the test images: {100 * correct / total:.2f}%')"
   ]
  },
  {
   "cell_type": "code",
   "execution_count": null,
   "id": "217fa043-2706-4da8-9a23-a51ad6195e03",
   "metadata": {},
   "outputs": [],
   "source": []
  }
 ],
 "metadata": {
  "kernelspec": {
   "display_name": "Python [conda env:base] *",
   "language": "python",
   "name": "conda-base-py"
  },
  "language_info": {
   "codemirror_mode": {
    "name": "ipython",
    "version": 3
   },
   "file_extension": ".py",
   "mimetype": "text/x-python",
   "name": "python",
   "nbconvert_exporter": "python",
   "pygments_lexer": "ipython3",
   "version": "3.12.7"
  }
 },
 "nbformat": 4,
 "nbformat_minor": 5
}
